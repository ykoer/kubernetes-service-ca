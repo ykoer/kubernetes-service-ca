{
 "cells": [
  {
   "cell_type": "markdown",
   "id": "3bc37a30",
   "metadata": {},
   "source": [
    "# Jupyter Notebook to Reproduce the Race Condition between Cert-Manager and Service CA Operator"
   ]
  },
  {
   "cell_type": "markdown",
   "id": "704ded9e-45ab-4180-aca4-5ece33d53089",
   "metadata": {},
   "source": [
    "## Create a Kubernetes Cluster with Kind"
   ]
  },
  {
   "cell_type": "code",
   "execution_count": null,
   "id": "45be1ef5-8340-49e8-82d4-ac16ee63d5e4",
   "metadata": {},
   "outputs": [],
   "source": [
    "!kind create cluster"
   ]
  },
  {
   "cell_type": "markdown",
   "id": "8fc15520-c331-4c28-96a3-78e5f9b7c986",
   "metadata": {},
   "source": [
    "## Install Cert-Manager with Selfsigned Cluster Issuer"
   ]
  },
  {
   "cell_type": "code",
   "execution_count": null,
   "id": "e6840fa7-530f-49e3-b9d6-dfd37fbce05e",
   "metadata": {},
   "outputs": [],
   "source": [
    "!kubectl apply -f https://github.com/cert-manager/cert-manager/releases/download/v1.13.1/cert-manager.yaml"
   ]
  },
  {
   "cell_type": "code",
   "execution_count": null,
   "id": "40be3795-7f0f-4753-9f14-ba4de1ac5384",
   "metadata": {},
   "outputs": [],
   "source": [
    "%%bash\n",
    "kubectl apply -f - <<EOF\n",
    "apiVersion: cert-manager.io/v1\n",
    "kind: ClusterIssuer\n",
    "metadata:\n",
    "  name: selfsigned-cluster-issuer\n",
    "spec:\n",
    "  selfSigned: {}\n",
    "EOF"
   ]
  },
  {
   "cell_type": "markdown",
   "id": "bd0c0185-a4d7-414e-9ab9-04b27a7b7f45",
   "metadata": {},
   "source": [
    "## Install Service CA Operator to Kubernetes"
   ]
  },
  {
   "cell_type": "code",
   "execution_count": null,
   "id": "6745eef7-733f-450d-be46-14be4f489c2a",
   "metadata": {},
   "outputs": [],
   "source": [
    "!kubectl apply -f https://raw.githubusercontent.com/ykoer/kubernetes-service-ca/main/service-ca-deployment.yaml"
   ]
  },
  {
   "cell_type": "markdown",
   "id": "48427566-6e96-40c2-a209-b6ce94eba293",
   "metadata": {},
   "source": [
    "## Create a Service with a Service-Serving-Cert"
   ]
  },
  {
   "cell_type": "code",
   "execution_count": null,
   "id": "47187eaf-97b1-45a7-b37a-e3c9e9f5c613",
   "metadata": {},
   "outputs": [],
   "source": [
    "%%bash\n",
    "kubectl apply -f - <<EOF\n",
    "apiVersion: v1\n",
    "kind: Service\n",
    "metadata:\n",
    "  name: test-service\n",
    "  namespace: default\n",
    "  annotations:\n",
    "    service.beta.openshift.io/serving-cert-secret-name: test-service-tls\n",
    "spec:\n",
    "  ports:\n",
    "  - name: https\n",
    "    port: 8443\n",
    "  selector:\n",
    "    app: test-service\n",
    "EOF"
   ]
  },
  {
   "cell_type": "code",
   "execution_count": null,
   "id": "9b0cb597-2d28-4e9a-8417-51089e978f55",
   "metadata": {},
   "outputs": [],
   "source": [
    "!kubectl get secret test-service-tls -oyaml -n default"
   ]
  },
  {
   "cell_type": "markdown",
   "id": "2d70e0dd-ceb9-4508-b8d9-dcb399c31266",
   "metadata": {},
   "source": [
    "## Create a Certificate Resource"
   ]
  },
  {
   "cell_type": "code",
   "execution_count": null,
   "id": "d02b9662-8388-4d7c-9781-5f82b583dbe9",
   "metadata": {},
   "outputs": [],
   "source": [
    "%%bash\n",
    "kubectl create -f - <<EOF\n",
    "apiVersion: cert-manager.io/v1\n",
    "kind: Certificate\n",
    "metadata:\n",
    "  name: certificaterequest-loop-reproducer\n",
    "  namespace: default\n",
    "spec:\n",
    "  issuerRef:\n",
    "    group: cert-manager.io\n",
    "    kind: ClusterIssuer\n",
    "    name: selfsigned-cluster-issuer\n",
    "  secretName: test-service-tls # <--- reference a secret with the ownerReference\n",
    "  commonName: test-service.mydomain.com\n",
    "  privateKey:\n",
    "    algorithm: RSA\n",
    "    size: 3072\n",
    "    rotationPolicy: Always\n",
    "    encoding: PKCS1\n",
    "EOF"
   ]
  },
  {
   "cell_type": "code",
   "execution_count": null,
   "id": "2a18ada9-aa45-4b8f-9349-a7efb0257e01",
   "metadata": {},
   "outputs": [],
   "source": [
    "!kubectl get crs -n default"
   ]
  },
  {
   "cell_type": "code",
   "execution_count": null,
   "id": "d9f220d6-2b48-40e0-9980-389c6cdcfeaf",
   "metadata": {},
   "outputs": [],
   "source": [
    "!kubectl delete certificate certificaterequest-loop-reproducer -n default"
   ]
  }
 ],
 "metadata": {
  "kernelspec": {
   "display_name": "Python 3 (ipykernel)",
   "language": "python",
   "name": "python3"
  },
  "language_info": {
   "codemirror_mode": {
    "name": "ipython",
    "version": 3
   },
   "file_extension": ".py",
   "mimetype": "text/x-python",
   "name": "python",
   "nbconvert_exporter": "python",
   "pygments_lexer": "ipython3",
   "version": "3.11.8"
  }
 },
 "nbformat": 4,
 "nbformat_minor": 5
}
